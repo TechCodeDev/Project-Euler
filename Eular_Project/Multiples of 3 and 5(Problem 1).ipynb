{
 "cells": [
  {
   "cell_type": "code",
   "execution_count": 1,
   "metadata": {},
   "outputs": [
    {
     "name": "stdout",
     "output_type": "stream",
     "text": [
      "233168\n"
     ]
    }
   ],
   "source": [
    "## If we list all the natural numbers below 10 that are multiples of 3 or 5, we get 3, 5, 6 and 9. The sum of these multiples is 23.\n",
    "## Find the sum of all the multiples of 3 or 5 below 1000.\n",
    "\n",
    "def multiples_of_x_and_y(x, y, limit):\n",
    "    answer = 0\n",
    "    for i in range(0, limit):\n",
    "        if i % x == 0 or i % y == 0:\n",
    "            answer = answer + i\n",
    "    return answer\n",
    "\n",
    "\n",
    "print(multiples_of_x_and_y(3, 5, 1000))"
   ]
  }
 ],
 "metadata": {
  "kernelspec": {
   "display_name": "Python 2",
   "language": "python",
   "name": "python2"
  },
  "language_info": {
   "codemirror_mode": {
    "name": "ipython",
    "version": 2
   },
   "file_extension": ".py",
   "mimetype": "text/x-python",
   "name": "python",
   "nbconvert_exporter": "python",
   "pygments_lexer": "ipython2",
   "version": "2.7.16"
  }
 },
 "nbformat": 4,
 "nbformat_minor": 2
}
