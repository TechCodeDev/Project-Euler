{
 "cells": [
  {
   "cell_type": "code",
   "execution_count": 3,
   "metadata": {},
   "outputs": [
    {
     "name": "stdout",
     "output_type": "stream",
     "text": [
      "('Answer:', 25164150)\n"
     ]
    }
   ],
   "source": [
    "## The sum of the squares of the first ten natural numbers is,12+22+...+102=385 The square of the sum of the first ten natural \n",
    "## numbers is,(1+2+...+10)2=552=3025 .Hence the difference between the sum of the squares of the first ten natural numbers and\n",
    "## the square of the sum is 3025−385=2640.Find the difference between the sum of the squares of the first one hundred natural\n",
    "## numbers and the square of the sum.\n",
    "\n",
    "SumSqr=0;\n",
    "TSum=0\n",
    "for i in range(0,101):\n",
    "    SumSqr=SumSqr+(i*i)\n",
    "    TSum=TSum+i\n",
    "Result=(TSum*TSum)-SumSqr\n",
    "print('Answer:',Result)"
   ]
  }
 ],
 "metadata": {
  "kernelspec": {
   "display_name": "Python 2",
   "language": "python",
   "name": "python2"
  },
  "language_info": {
   "codemirror_mode": {
    "name": "ipython",
    "version": 2
   },
   "file_extension": ".py",
   "mimetype": "text/x-python",
   "name": "python",
   "nbconvert_exporter": "python",
   "pygments_lexer": "ipython2",
   "version": "2.7.16"
  }
 },
 "nbformat": 4,
 "nbformat_minor": 2
}
