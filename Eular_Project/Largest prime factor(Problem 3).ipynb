{
 "cells": [
  {
   "cell_type": "code",
   "execution_count": 3,
   "metadata": {},
   "outputs": [
    {
     "name": "stdout",
     "output_type": "stream",
     "text": [
      "Answer: 6857\n"
     ]
    }
   ],
   "source": [
    "## The prime factors of 13195 are 5, 7, 13 and 29.What is the largest prime factor of the number 600851475143 ?\n",
    "\n",
    "n, i = 600851475143, 1\n",
    "while i < n:\n",
    "    if n % i == 0:\n",
    "        n = n // i\n",
    "    i += 1\n",
    "print'Answer:',n\n"
   ]
  }
 ],
 "metadata": {
  "kernelspec": {
   "display_name": "Python 2",
   "language": "python",
   "name": "python2"
  },
  "language_info": {
   "codemirror_mode": {
    "name": "ipython",
    "version": 2
   },
   "file_extension": ".py",
   "mimetype": "text/x-python",
   "name": "python",
   "nbconvert_exporter": "python",
   "pygments_lexer": "ipython2",
   "version": "2.7.16"
  }
 },
 "nbformat": 4,
 "nbformat_minor": 2
}
