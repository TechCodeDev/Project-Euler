{
 "cells": [
  {
   "cell_type": "code",
   "execution_count": 1,
   "metadata": {},
   "outputs": [
    {
     "name": "stdout",
     "output_type": "stream",
     "text": [
      "('The smallest number that can be divided by each of the numbers from 1 to 20', 232792560)\n"
     ]
    }
   ],
   "source": [
    "## 2520 is the smallest number that can be divided by each of the numbers from 1 to 10 without any remainder.\n",
    "## What is the smallest positive number that is evenly divisible by all of the numbers from 1 to 20?\n",
    "\n",
    "i = 20\n",
    "while True:\n",
    "    NumList = []\n",
    "    for j in range(2, 21):\n",
    "        if i%j != 0:\n",
    "            break\n",
    "        else:\n",
    "            NumList.append(j)\n",
    "    if len(NumList) == 19:\n",
    "        break\n",
    "    i=i+1\n",
    "print(\"The smallest number that can be divided by each of the numbers from 1 to 20\", i)"
   ]
  }
 ],
 "metadata": {
  "kernelspec": {
   "display_name": "Python 2",
   "language": "python",
   "name": "python2"
  },
  "language_info": {
   "codemirror_mode": {
    "name": "ipython",
    "version": 2
   },
   "file_extension": ".py",
   "mimetype": "text/x-python",
   "name": "python",
   "nbconvert_exporter": "python",
   "pygments_lexer": "ipython2",
   "version": "2.7.16"
  }
 },
 "nbformat": 4,
 "nbformat_minor": 2
}
